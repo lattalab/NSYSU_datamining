{
 "cells": [
  {
   "cell_type": "code",
   "execution_count": 6,
   "id": "830a28a8",
   "metadata": {},
   "outputs": [
    {
     "name": "stdout",
     "output_type": "stream",
     "text": [
      "在實驗A中:\n",
      "Accuracy: 0.7661691542288557\n",
      "Recall: 0.5915492957746479\n"
     ]
    }
   ],
   "source": [
    "#實驗A\n",
    "from sklearn.naive_bayes import GaussianNB          # 高斯貝氏分類器 GaussianNB\n",
    "from sklearn import datasets    \n",
    "from sklearn.model_selection import train_test_split  #訓練模型\n",
    "from sklearn.metrics import accuracy_score, recall_score  #算準確率跟召回率\n",
    "\n",
    "import pandas as pd\n",
    "import numpy as np\n",
    "from matplotlib import pyplot as plt\n",
    "\n",
    "fp = pd.read_csv(\"train_data.csv\")\n",
    "fn = pd.read_csv(\"test_data.csv\")\n",
    "\n",
    "#Set up training data\n",
    "#means it will select all rows,    “: -1 ” means that it will ignore last column\n",
    "#as feature\n",
    "X = fp.iloc[:,:-1]\n",
    "# ” : ” means it will select all rows,    “-1 : ” means that it will ignore all columns except the last one\n",
    "#as classification outcome\n",
    "y = fp.iloc [:, -1]\n",
    "\n",
    "# 拆分成訓練集與測試集\n",
    "X_train, X_test, y_train, y_test = train_test_split(X, y, test_size=0.3, random_state=0)\n",
    "\n",
    "model=GaussianNB()                         # 這裡使用高斯貝氏分類器\n",
    "model.fit(X_train,y_train)\n",
    "\n",
    "#Set up test data\n",
    "X_t = fn.iloc[:,:-1]\n",
    "Y_t = fn.iloc[:,-1]\n",
    "predictions = model.predict(X_t) #把test丟進訓練模型預測\n",
    "\n",
    "print(\"在實驗A中:\")\n",
    "# 計算準確率\n",
    "accuracy = accuracy_score(Y_t, predictions)\n",
    "print(\"Accuracy:\", accuracy)\n",
    "# 計算召回率\n",
    "recall = recall_score(Y_t, predictions)\n",
    "print(\"Recall:\", recall)"
   ]
  },
  {
   "cell_type": "code",
   "execution_count": null,
   "id": "dfcb6575",
   "metadata": {},
   "outputs": [],
   "source": []
  }
 ],
 "metadata": {
  "kernelspec": {
   "display_name": "Python 3 (ipykernel)",
   "language": "python",
   "name": "python3"
  },
  "language_info": {
   "codemirror_mode": {
    "name": "ipython",
    "version": 3
   },
   "file_extension": ".py",
   "mimetype": "text/x-python",
   "name": "python",
   "nbconvert_exporter": "python",
   "pygments_lexer": "ipython3",
   "version": "3.9.13"
  }
 },
 "nbformat": 4,
 "nbformat_minor": 5
}
